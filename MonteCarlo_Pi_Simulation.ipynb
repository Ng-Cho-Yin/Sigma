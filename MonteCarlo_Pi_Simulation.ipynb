{
  "nbformat": 4,
  "nbformat_minor": 0,
  "metadata": {
    "colab": {
      "name": "Untitled5.ipynb",
      "provenance": [],
      "authorship_tag": "ABX9TyNyY9imVXg04M1/gnHPcVdo",
      "include_colab_link": true
    },
    "kernelspec": {
      "name": "python3",
      "display_name": "Python 3"
    },
    "language_info": {
      "name": "python"
    }
  },
  "cells": [
    {
      "cell_type": "markdown",
      "metadata": {
        "id": "view-in-github",
        "colab_type": "text"
      },
      "source": [
        "<a href=\"https://colab.research.google.com/github/Ng-Cho-Yin/sigma/blob/main/MonteCarlo_Pi_Simulation.ipynb\" target=\"_parent\"><img src=\"https://colab.research.google.com/assets/colab-badge.svg\" alt=\"Open In Colab\"/></a>"
      ]
    },
    {
      "cell_type": "code",
      "execution_count": 3,
      "metadata": {
        "id": "hv0ORChXpjyq"
      },
      "outputs": [],
      "source": [
        "import numpy as np\n",
        "from numpy.random import uniform"
      ]
    },
    {
      "cell_type": "code",
      "source": [
        "uniform(size=10000)"
      ],
      "metadata": {
        "colab": {
          "base_uri": "https://localhost:8080/"
        },
        "id": "sE8n_jCMp3fk",
        "outputId": "4e14e4c0-8671-43f1-eb9b-8063b38156ab"
      },
      "execution_count": 12,
      "outputs": [
        {
          "output_type": "execute_result",
          "data": {
            "text/plain": [
              "array([0.76274413, 0.21543042, 0.77482586, ..., 0.77330099, 0.11846686,\n",
              "       0.51979751])"
            ]
          },
          "metadata": {},
          "execution_count": 12
        }
      ]
    },
    {
      "cell_type": "code",
      "source": [
        "(np.sum(uniform(size=10000)**2+uniform(size=10000)**2<1)/10000)*4"
      ],
      "metadata": {
        "colab": {
          "base_uri": "https://localhost:8080/"
        },
        "id": "k0A--48tqqZf",
        "outputId": "716cede0-7fc2-4859-9a74-70b6199e5fc8"
      },
      "execution_count": 13,
      "outputs": [
        {
          "output_type": "execute_result",
          "data": {
            "text/plain": [
              "3.0972"
            ]
          },
          "metadata": {},
          "execution_count": 13
        }
      ]
    },
    {
      "cell_type": "code",
      "source": [
        ""
      ],
      "metadata": {
        "id": "ua_8_2WTqqqV"
      },
      "execution_count": null,
      "outputs": []
    },
    {
      "cell_type": "code",
      "source": [
        ""
      ],
      "metadata": {
        "id": "6fzIAG-oqq08"
      },
      "execution_count": null,
      "outputs": []
    }
  ]
}